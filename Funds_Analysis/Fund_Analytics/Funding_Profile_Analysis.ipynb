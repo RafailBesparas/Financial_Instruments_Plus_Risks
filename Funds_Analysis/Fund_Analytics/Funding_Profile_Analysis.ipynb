{
 "cells": [
  {
   "cell_type": "markdown",
   "id": "e8fce31d",
   "metadata": {},
   "source": [
    "# Funding Profile Analysis\n",
    "- Is a financial assessment that examines how a project, company, or investment is financed over time.\n",
    "- It looks at the sources of funds (like equity, debt, or grants), their timing, cost, risks, and suitability to the needs of the business or project.\n",
    "\n",
    "# Term Explanation\n",
    "Funding Profile Analysis shows where the money is coming from, how it's structured, and whether it's appropriate and sustainable for the long-term goals."
   ]
  },
  {
   "cell_type": "markdown",
   "id": "6b6fc7d7",
   "metadata": {},
   "source": [
    "-  Average and total funding amount by funding_source, institution_id, or funding_currency"
   ]
  },
  {
   "cell_type": "code",
   "execution_count": 1,
   "id": "d56738d8",
   "metadata": {},
   "outputs": [],
   "source": [
    "import pandas as pd\n",
    "import numpy as np\n",
    "import matplotlib.pyplot as plt\n",
    "import seaborn as sns\n",
    "from scipy.stats import chi2_contingency\n",
    "from scipy.stats import zscore\n",
    "from scipy.stats import ttest_ind"
   ]
  },
  {
   "cell_type": "code",
   "execution_count": 2,
   "id": "c2318780",
   "metadata": {},
   "outputs": [
    {
     "data": {
      "text/html": [
       "<div>\n",
       "<style scoped>\n",
       "    .dataframe tbody tr th:only-of-type {\n",
       "        vertical-align: middle;\n",
       "    }\n",
       "\n",
       "    .dataframe tbody tr th {\n",
       "        vertical-align: top;\n",
       "    }\n",
       "\n",
       "    .dataframe thead th {\n",
       "        text-align: right;\n",
       "    }\n",
       "</style>\n",
       "<table border=\"1\" class=\"dataframe\">\n",
       "  <thead>\n",
       "    <tr style=\"text-align: right;\">\n",
       "      <th></th>\n",
       "      <th>institution_id</th>\n",
       "      <th>funding_source</th>\n",
       "      <th>funding_amount</th>\n",
       "      <th>maturity_date</th>\n",
       "      <th>refinancing_needed</th>\n",
       "      <th>interest_spread</th>\n",
       "      <th>funding_currency</th>\n",
       "      <th>days_to_maturity</th>\n",
       "      <th>credit_rating</th>\n",
       "      <th>z_score_spread</th>\n",
       "      <th>maturity_bucket</th>\n",
       "      <th>spread_level</th>\n",
       "      <th>funding_size_class</th>\n",
       "      <th>rating_score</th>\n",
       "      <th>is_foreign_currency</th>\n",
       "      <th>adjusted_spread</th>\n",
       "      <th>risk_bucket</th>\n",
       "    </tr>\n",
       "  </thead>\n",
       "  <tbody>\n",
       "    <tr>\n",
       "      <th>0</th>\n",
       "      <td>INST0</td>\n",
       "      <td>equity</td>\n",
       "      <td>1.339455e+08</td>\n",
       "      <td>2025-01-01</td>\n",
       "      <td>0</td>\n",
       "      <td>30.54</td>\n",
       "      <td>JPY</td>\n",
       "      <td>148</td>\n",
       "      <td>A</td>\n",
       "      <td>-1.273219</td>\n",
       "      <td>short_term</td>\n",
       "      <td>low</td>\n",
       "      <td>small</td>\n",
       "      <td>3</td>\n",
       "      <td>1</td>\n",
       "      <td>0.206351</td>\n",
       "      <td>low_risk</td>\n",
       "    </tr>\n",
       "    <tr>\n",
       "      <th>1</th>\n",
       "      <td>INST1</td>\n",
       "      <td>interbank</td>\n",
       "      <td>2.864152e+08</td>\n",
       "      <td>2025-01-02</td>\n",
       "      <td>0</td>\n",
       "      <td>13.57</td>\n",
       "      <td>GBP</td>\n",
       "      <td>438</td>\n",
       "      <td>A</td>\n",
       "      <td>-0.744598</td>\n",
       "      <td>long_term</td>\n",
       "      <td>low</td>\n",
       "      <td>medium</td>\n",
       "      <td>3</td>\n",
       "      <td>1</td>\n",
       "      <td>0.030982</td>\n",
       "      <td>low_risk</td>\n",
       "    </tr>\n",
       "    <tr>\n",
       "      <th>2</th>\n",
       "      <td>INST2</td>\n",
       "      <td>equity</td>\n",
       "      <td>9.993584e+08</td>\n",
       "      <td>2025-01-03</td>\n",
       "      <td>0</td>\n",
       "      <td>-4.54</td>\n",
       "      <td>USD</td>\n",
       "      <td>637</td>\n",
       "      <td>B</td>\n",
       "      <td>1.727216</td>\n",
       "      <td>long_term</td>\n",
       "      <td>low</td>\n",
       "      <td>large</td>\n",
       "      <td>6</td>\n",
       "      <td>0</td>\n",
       "      <td>-0.007127</td>\n",
       "      <td>low_risk</td>\n",
       "    </tr>\n",
       "    <tr>\n",
       "      <th>3</th>\n",
       "      <td>INST3</td>\n",
       "      <td>bond</td>\n",
       "      <td>2.744035e+08</td>\n",
       "      <td>2025-01-04</td>\n",
       "      <td>1</td>\n",
       "      <td>57.77</td>\n",
       "      <td>EUR</td>\n",
       "      <td>667</td>\n",
       "      <td>B</td>\n",
       "      <td>-0.786244</td>\n",
       "      <td>long_term</td>\n",
       "      <td>medium</td>\n",
       "      <td>medium</td>\n",
       "      <td>6</td>\n",
       "      <td>1</td>\n",
       "      <td>0.086612</td>\n",
       "      <td>moderate_risk</td>\n",
       "    </tr>\n",
       "    <tr>\n",
       "      <th>4</th>\n",
       "      <td>INST4</td>\n",
       "      <td>equity</td>\n",
       "      <td>8.187816e+08</td>\n",
       "      <td>2025-01-05</td>\n",
       "      <td>0</td>\n",
       "      <td>34.79</td>\n",
       "      <td>GBP</td>\n",
       "      <td>85</td>\n",
       "      <td>D</td>\n",
       "      <td>1.101146</td>\n",
       "      <td>short_term</td>\n",
       "      <td>low</td>\n",
       "      <td>large</td>\n",
       "      <td>8</td>\n",
       "      <td>1</td>\n",
       "      <td>0.409294</td>\n",
       "      <td>low_risk</td>\n",
       "    </tr>\n",
       "  </tbody>\n",
       "</table>\n",
       "</div>"
      ],
      "text/plain": [
       "  institution_id funding_source  funding_amount maturity_date  \\\n",
       "0          INST0         equity    1.339455e+08    2025-01-01   \n",
       "1          INST1      interbank    2.864152e+08    2025-01-02   \n",
       "2          INST2         equity    9.993584e+08    2025-01-03   \n",
       "3          INST3           bond    2.744035e+08    2025-01-04   \n",
       "4          INST4         equity    8.187816e+08    2025-01-05   \n",
       "\n",
       "   refinancing_needed  interest_spread funding_currency  days_to_maturity  \\\n",
       "0                   0            30.54              JPY               148   \n",
       "1                   0            13.57              GBP               438   \n",
       "2                   0            -4.54              USD               637   \n",
       "3                   1            57.77              EUR               667   \n",
       "4                   0            34.79              GBP                85   \n",
       "\n",
       "  credit_rating  z_score_spread maturity_bucket spread_level  \\\n",
       "0             A       -1.273219      short_term          low   \n",
       "1             A       -0.744598       long_term          low   \n",
       "2             B        1.727216       long_term          low   \n",
       "3             B       -0.786244       long_term       medium   \n",
       "4             D        1.101146      short_term          low   \n",
       "\n",
       "  funding_size_class  rating_score  is_foreign_currency  adjusted_spread  \\\n",
       "0              small             3                    1         0.206351   \n",
       "1             medium             3                    1         0.030982   \n",
       "2              large             6                    0        -0.007127   \n",
       "3             medium             6                    1         0.086612   \n",
       "4              large             8                    1         0.409294   \n",
       "\n",
       "     risk_bucket  \n",
       "0       low_risk  \n",
       "1       low_risk  \n",
       "2       low_risk  \n",
       "3  moderate_risk  \n",
       "4       low_risk  "
      ]
     },
     "execution_count": 2,
     "metadata": {},
     "output_type": "execute_result"
    }
   ],
   "source": [
    "df = pd.read_csv(\"Feature_Engineered_Funding_Data.csv\")\n",
    "df.head(5)"
   ]
  },
  {
   "cell_type": "code",
   "execution_count": 3,
   "id": "dd32a0c8",
   "metadata": {},
   "outputs": [
    {
     "data": {
      "text/plain": [
       "count    1.000000e+05\n",
       "mean     5.011790e+08\n",
       "std      2.884306e+08\n",
       "min      1.008162e+06\n",
       "25%      2.522875e+08\n",
       "50%      5.008132e+08\n",
       "75%      7.508501e+08\n",
       "max      9.999863e+08\n",
       "Name: funding_amount, dtype: float64"
      ]
     },
     "execution_count": 3,
     "metadata": {},
     "output_type": "execute_result"
    }
   ],
   "source": [
    "df['funding_amount'].describe()"
   ]
  },
  {
   "cell_type": "markdown",
   "id": "74e6f425",
   "metadata": {},
   "source": [
    "- Group By funding resource"
   ]
  },
  {
   "cell_type": "code",
   "execution_count": 4,
   "id": "dba9d6cb",
   "metadata": {},
   "outputs": [],
   "source": [
    "# Check the funding by resource\n",
    "funding_resource = df.groupby(\"funding_source\")['funding_amount'].agg(\n",
    "    average_funding_amount = \"mean\",\n",
    "    total_funding_amount = \"mean\",\n",
    "    deal_count = \"count\"\n",
    ").reset_index()"
   ]
  },
  {
   "cell_type": "code",
   "execution_count": 5,
   "id": "e0af8bd5",
   "metadata": {},
   "outputs": [
    {
     "data": {
      "text/html": [
       "<div>\n",
       "<style scoped>\n",
       "    .dataframe tbody tr th:only-of-type {\n",
       "        vertical-align: middle;\n",
       "    }\n",
       "\n",
       "    .dataframe tbody tr th {\n",
       "        vertical-align: top;\n",
       "    }\n",
       "\n",
       "    .dataframe thead th {\n",
       "        text-align: right;\n",
       "    }\n",
       "</style>\n",
       "<table border=\"1\" class=\"dataframe\">\n",
       "  <thead>\n",
       "    <tr style=\"text-align: right;\">\n",
       "      <th></th>\n",
       "      <th>funding_source</th>\n",
       "      <th>average_funding_amount</th>\n",
       "      <th>total_funding_amount</th>\n",
       "      <th>deal_count</th>\n",
       "    </tr>\n",
       "  </thead>\n",
       "  <tbody>\n",
       "    <tr>\n",
       "      <th>0</th>\n",
       "      <td>bond</td>\n",
       "      <td>5.006398e+08</td>\n",
       "      <td>5.006398e+08</td>\n",
       "      <td>25092</td>\n",
       "    </tr>\n",
       "    <tr>\n",
       "      <th>1</th>\n",
       "      <td>equity</td>\n",
       "      <td>5.012857e+08</td>\n",
       "      <td>5.012857e+08</td>\n",
       "      <td>24654</td>\n",
       "    </tr>\n",
       "    <tr>\n",
       "      <th>2</th>\n",
       "      <td>interbank</td>\n",
       "      <td>5.018133e+08</td>\n",
       "      <td>5.018133e+08</td>\n",
       "      <td>25138</td>\n",
       "    </tr>\n",
       "    <tr>\n",
       "      <th>3</th>\n",
       "      <td>repo</td>\n",
       "      <td>5.009782e+08</td>\n",
       "      <td>5.009782e+08</td>\n",
       "      <td>25116</td>\n",
       "    </tr>\n",
       "  </tbody>\n",
       "</table>\n",
       "</div>"
      ],
      "text/plain": [
       "  funding_source  average_funding_amount  total_funding_amount  deal_count\n",
       "0           bond            5.006398e+08          5.006398e+08       25092\n",
       "1         equity            5.012857e+08          5.012857e+08       24654\n",
       "2      interbank            5.018133e+08          5.018133e+08       25138\n",
       "3           repo            5.009782e+08          5.009782e+08       25116"
      ]
     },
     "execution_count": 5,
     "metadata": {},
     "output_type": "execute_result"
    }
   ],
   "source": [
    "funding_resource"
   ]
  },
  {
   "cell_type": "markdown",
   "id": "f089472e",
   "metadata": {},
   "source": [
    "- Analyze the funding on each institution id"
   ]
  },
  {
   "cell_type": "code",
   "execution_count": 6,
   "id": "1fc75899",
   "metadata": {},
   "outputs": [],
   "source": [
    "# Group by institution id\n",
    "funding_for_each_institution = df.groupby(\"institution_id\")['funding_amount'].agg(\n",
    "    average_funding_amount = \"mean\",\n",
    "    total_funding_amount = \"mean\",\n",
    "    deal_count = \"count\"\n",
    ").reset_index()"
   ]
  },
  {
   "cell_type": "code",
   "execution_count": 7,
   "id": "a684970e",
   "metadata": {},
   "outputs": [
    {
     "data": {
      "text/html": [
       "<div>\n",
       "<style scoped>\n",
       "    .dataframe tbody tr th:only-of-type {\n",
       "        vertical-align: middle;\n",
       "    }\n",
       "\n",
       "    .dataframe tbody tr th {\n",
       "        vertical-align: top;\n",
       "    }\n",
       "\n",
       "    .dataframe thead th {\n",
       "        text-align: right;\n",
       "    }\n",
       "</style>\n",
       "<table border=\"1\" class=\"dataframe\">\n",
       "  <thead>\n",
       "    <tr style=\"text-align: right;\">\n",
       "      <th></th>\n",
       "      <th>institution_id</th>\n",
       "      <th>average_funding_amount</th>\n",
       "      <th>total_funding_amount</th>\n",
       "      <th>deal_count</th>\n",
       "    </tr>\n",
       "  </thead>\n",
       "  <tbody>\n",
       "    <tr>\n",
       "      <th>0</th>\n",
       "      <td>INST0</td>\n",
       "      <td>4.615538e+08</td>\n",
       "      <td>4.615538e+08</td>\n",
       "      <td>10</td>\n",
       "    </tr>\n",
       "    <tr>\n",
       "      <th>1</th>\n",
       "      <td>INST1</td>\n",
       "      <td>3.385410e+08</td>\n",
       "      <td>3.385410e+08</td>\n",
       "      <td>10</td>\n",
       "    </tr>\n",
       "    <tr>\n",
       "      <th>2</th>\n",
       "      <td>INST10</td>\n",
       "      <td>4.051275e+08</td>\n",
       "      <td>4.051275e+08</td>\n",
       "      <td>10</td>\n",
       "    </tr>\n",
       "    <tr>\n",
       "      <th>3</th>\n",
       "      <td>INST100</td>\n",
       "      <td>5.801429e+08</td>\n",
       "      <td>5.801429e+08</td>\n",
       "      <td>10</td>\n",
       "    </tr>\n",
       "    <tr>\n",
       "      <th>4</th>\n",
       "      <td>INST1000</td>\n",
       "      <td>6.363469e+08</td>\n",
       "      <td>6.363469e+08</td>\n",
       "      <td>10</td>\n",
       "    </tr>\n",
       "    <tr>\n",
       "      <th>...</th>\n",
       "      <td>...</td>\n",
       "      <td>...</td>\n",
       "      <td>...</td>\n",
       "      <td>...</td>\n",
       "    </tr>\n",
       "    <tr>\n",
       "      <th>9995</th>\n",
       "      <td>INST9995</td>\n",
       "      <td>5.096555e+08</td>\n",
       "      <td>5.096555e+08</td>\n",
       "      <td>10</td>\n",
       "    </tr>\n",
       "    <tr>\n",
       "      <th>9996</th>\n",
       "      <td>INST9996</td>\n",
       "      <td>4.242859e+08</td>\n",
       "      <td>4.242859e+08</td>\n",
       "      <td>10</td>\n",
       "    </tr>\n",
       "    <tr>\n",
       "      <th>9997</th>\n",
       "      <td>INST9997</td>\n",
       "      <td>5.643321e+08</td>\n",
       "      <td>5.643321e+08</td>\n",
       "      <td>10</td>\n",
       "    </tr>\n",
       "    <tr>\n",
       "      <th>9998</th>\n",
       "      <td>INST9998</td>\n",
       "      <td>6.367812e+08</td>\n",
       "      <td>6.367812e+08</td>\n",
       "      <td>10</td>\n",
       "    </tr>\n",
       "    <tr>\n",
       "      <th>9999</th>\n",
       "      <td>INST9999</td>\n",
       "      <td>5.110232e+08</td>\n",
       "      <td>5.110232e+08</td>\n",
       "      <td>10</td>\n",
       "    </tr>\n",
       "  </tbody>\n",
       "</table>\n",
       "<p>10000 rows × 4 columns</p>\n",
       "</div>"
      ],
      "text/plain": [
       "     institution_id  average_funding_amount  total_funding_amount  deal_count\n",
       "0             INST0            4.615538e+08          4.615538e+08          10\n",
       "1             INST1            3.385410e+08          3.385410e+08          10\n",
       "2            INST10            4.051275e+08          4.051275e+08          10\n",
       "3           INST100            5.801429e+08          5.801429e+08          10\n",
       "4          INST1000            6.363469e+08          6.363469e+08          10\n",
       "...             ...                     ...                   ...         ...\n",
       "9995       INST9995            5.096555e+08          5.096555e+08          10\n",
       "9996       INST9996            4.242859e+08          4.242859e+08          10\n",
       "9997       INST9997            5.643321e+08          5.643321e+08          10\n",
       "9998       INST9998            6.367812e+08          6.367812e+08          10\n",
       "9999       INST9999            5.110232e+08          5.110232e+08          10\n",
       "\n",
       "[10000 rows x 4 columns]"
      ]
     },
     "execution_count": 7,
     "metadata": {},
     "output_type": "execute_result"
    }
   ],
   "source": [
    "funding_for_each_institution"
   ]
  },
  {
   "cell_type": "markdown",
   "id": "72540a97",
   "metadata": {},
   "source": [
    "- Check the funding by each currency"
   ]
  },
  {
   "cell_type": "code",
   "execution_count": 8,
   "id": "93a0fb3c",
   "metadata": {},
   "outputs": [],
   "source": [
    "funding_by_all_currencies = df.groupby(\"funding_currency\")[\"funding_amount\"].agg(\n",
    "    average_funding_amount=\"mean\",\n",
    "    total_funding_amount=\"sum\",\n",
    "    deal_count=\"count\"\n",
    ").reset_index()"
   ]
  },
  {
   "cell_type": "code",
   "execution_count": 9,
   "id": "d47bee09",
   "metadata": {},
   "outputs": [
    {
     "data": {
      "text/html": [
       "<div>\n",
       "<style scoped>\n",
       "    .dataframe tbody tr th:only-of-type {\n",
       "        vertical-align: middle;\n",
       "    }\n",
       "\n",
       "    .dataframe tbody tr th {\n",
       "        vertical-align: top;\n",
       "    }\n",
       "\n",
       "    .dataframe thead th {\n",
       "        text-align: right;\n",
       "    }\n",
       "</style>\n",
       "<table border=\"1\" class=\"dataframe\">\n",
       "  <thead>\n",
       "    <tr style=\"text-align: right;\">\n",
       "      <th></th>\n",
       "      <th>funding_currency</th>\n",
       "      <th>average_funding_amount</th>\n",
       "      <th>total_funding_amount</th>\n",
       "      <th>deal_count</th>\n",
       "    </tr>\n",
       "  </thead>\n",
       "  <tbody>\n",
       "    <tr>\n",
       "      <th>0</th>\n",
       "      <td>EUR</td>\n",
       "      <td>5.009310e+08</td>\n",
       "      <td>1.253730e+13</td>\n",
       "      <td>25028</td>\n",
       "    </tr>\n",
       "    <tr>\n",
       "      <th>1</th>\n",
       "      <td>GBP</td>\n",
       "      <td>5.007358e+08</td>\n",
       "      <td>1.253241e+13</td>\n",
       "      <td>25028</td>\n",
       "    </tr>\n",
       "    <tr>\n",
       "      <th>2</th>\n",
       "      <td>JPY</td>\n",
       "      <td>5.026970e+08</td>\n",
       "      <td>1.253927e+13</td>\n",
       "      <td>24944</td>\n",
       "    </tr>\n",
       "    <tr>\n",
       "      <th>3</th>\n",
       "      <td>USD</td>\n",
       "      <td>5.003566e+08</td>\n",
       "      <td>1.250892e+13</td>\n",
       "      <td>25000</td>\n",
       "    </tr>\n",
       "  </tbody>\n",
       "</table>\n",
       "</div>"
      ],
      "text/plain": [
       "  funding_currency  average_funding_amount  total_funding_amount  deal_count\n",
       "0              EUR            5.009310e+08          1.253730e+13       25028\n",
       "1              GBP            5.007358e+08          1.253241e+13       25028\n",
       "2              JPY            5.026970e+08          1.253927e+13       24944\n",
       "3              USD            5.003566e+08          1.250892e+13       25000"
      ]
     },
     "execution_count": 9,
     "metadata": {},
     "output_type": "execute_result"
    }
   ],
   "source": [
    "funding_by_all_currencies"
   ]
  },
  {
   "cell_type": "markdown",
   "id": "3eb8ca6c",
   "metadata": {},
   "source": [
    "# Ready Plots from Chat GTP"
   ]
  },
  {
   "cell_type": "code",
   "execution_count": 10,
   "id": "d94c77eb",
   "metadata": {},
   "outputs": [
    {
     "data": {
      "image/png": "[encoded data removed]",
      "text/plain": [
       "<Figure size 1000x500 with 1 Axes>"
      ]
     },
     "metadata": {},
     "output_type": "display_data"
    },
    {
     "data": {
      "image/png": "[encoded data removed]",
      "text/plain": [
       "<Figure size 1200x600 with 1 Axes>"
      ]
     },
     "metadata": {},
     "output_type": "display_data"
    },
    {
     "data": {
      "image/png": "[encoded data removed]",
      "text/plain": [
       "<Figure size 800x500 with 1 Axes>"
      ]
     },
     "metadata": {},
     "output_type": "display_data"
    }
   ],
   "source": [
    "# Plot 1: Total Funding by Source\n",
    "plt.figure(figsize=(10, 5))\n",
    "plt.bar(funding_resource['funding_source'], funding_resource['total_funding_amount'])\n",
    "plt.title('Total Funding Amount by Funding Source')\n",
    "plt.xlabel('Funding Source')\n",
    "plt.ylabel('Total Funding Amount')\n",
    "plt.xticks(rotation=45)\n",
    "plt.tight_layout()\n",
    "plt.show()\n",
    "\n",
    "# Plot 2: Top 10 Institutions by Total Funding\n",
    "top_institutions = funding_for_each_institution.sort_values(by=\"total_funding_amount\", ascending=False).head(10)\n",
    "plt.figure(figsize=(12, 6))\n",
    "plt.bar(top_institutions['institution_id'], top_institutions['total_funding_amount'])\n",
    "plt.title('Top 10 Institutions by Total Funding Amount')\n",
    "plt.xlabel('Institution ID')\n",
    "plt.ylabel('Total Funding Amount')\n",
    "plt.xticks(rotation=45)\n",
    "plt.tight_layout()\n",
    "plt.show()\n",
    "\n",
    "# Plot 3: Total Funding by Currency\n",
    "plt.figure(figsize=(8, 5))\n",
    "plt.bar(funding_by_all_currencies['funding_currency'], funding_by_all_currencies['total_funding_amount'])\n",
    "plt.title('Total Funding Amount by Currency')\n",
    "plt.xlabel('Currency')\n",
    "plt.ylabel('Total Funding Amount')\n",
    "plt.xticks(rotation=45)\n",
    "plt.tight_layout()\n",
    "plt.show()"
   ]
  },
  {
   "cell_type": "markdown",
   "id": "6f974440",
   "metadata": {},
   "source": [
    "# Create Funding Classes\n",
    "- Check the distribution for each funding class"
   ]
  },
  {
   "cell_type": "code",
   "execution_count": 11,
   "id": "fb5c70ed",
   "metadata": {},
   "outputs": [],
   "source": [
    "def funding_size_class(amount):\n",
    "    if amount < 252_287_500:\n",
    "        return 'Small'\n",
    "    elif amount < 500_813_200:\n",
    "        return 'Medium'\n",
    "    elif amount < 750_850_100:\n",
    "        return 'Upper-Medium'\n",
    "    else:\n",
    "        return 'Large'\n"
   ]
  },
  {
   "cell_type": "code",
   "execution_count": 12,
   "id": "51002719",
   "metadata": {},
   "outputs": [],
   "source": [
    "# Create the funding class\n",
    "df['funding_class'] = df['funding_amount'].apply(funding_size_class)"
   ]
  },
  {
   "cell_type": "code",
   "execution_count": 13,
   "id": "ae9e2bf9",
   "metadata": {},
   "outputs": [],
   "source": [
    "# Analysis based on the funding class\n",
    "funding_class_analysis = df.groupby('funding_class').agg(\n",
    "    number_of_deals=('funding_amount', 'count'),\n",
    "    total_amount=('funding_amount', 'sum'),\n",
    "    average_deal_size=('funding_amount', 'mean')\n",
    ").reset_index()"
   ]
  },
  {
   "cell_type": "code",
   "execution_count": 14,
   "id": "5565e15b",
   "metadata": {},
   "outputs": [
    {
     "data": {
      "text/html": [
       "<div>\n",
       "<style scoped>\n",
       "    .dataframe tbody tr th:only-of-type {\n",
       "        vertical-align: middle;\n",
       "    }\n",
       "\n",
       "    .dataframe tbody tr th {\n",
       "        vertical-align: top;\n",
       "    }\n",
       "\n",
       "    .dataframe thead th {\n",
       "        text-align: right;\n",
       "    }\n",
       "</style>\n",
       "<table border=\"1\" class=\"dataframe\">\n",
       "  <thead>\n",
       "    <tr style=\"text-align: right;\">\n",
       "      <th></th>\n",
       "      <th>funding_class</th>\n",
       "      <th>number_of_deals</th>\n",
       "      <th>total_amount</th>\n",
       "      <th>average_deal_size</th>\n",
       "    </tr>\n",
       "  </thead>\n",
       "  <tbody>\n",
       "    <tr>\n",
       "      <th>0</th>\n",
       "      <td>Large</td>\n",
       "      <td>25000</td>\n",
       "      <td>2.189509e+13</td>\n",
       "      <td>8.758035e+08</td>\n",
       "    </tr>\n",
       "    <tr>\n",
       "      <th>1</th>\n",
       "      <td>Medium</td>\n",
       "      <td>25000</td>\n",
       "      <td>9.405988e+12</td>\n",
       "      <td>3.762395e+08</td>\n",
       "    </tr>\n",
       "    <tr>\n",
       "      <th>2</th>\n",
       "      <td>Small</td>\n",
       "      <td>25000</td>\n",
       "      <td>3.163540e+12</td>\n",
       "      <td>1.265416e+08</td>\n",
       "    </tr>\n",
       "    <tr>\n",
       "      <th>3</th>\n",
       "      <td>Upper-Medium</td>\n",
       "      <td>25000</td>\n",
       "      <td>1.565329e+13</td>\n",
       "      <td>6.261316e+08</td>\n",
       "    </tr>\n",
       "  </tbody>\n",
       "</table>\n",
       "</div>"
      ],
      "text/plain": [
       "  funding_class  number_of_deals  total_amount  average_deal_size\n",
       "0         Large            25000  2.189509e+13       8.758035e+08\n",
       "1        Medium            25000  9.405988e+12       3.762395e+08\n",
       "2         Small            25000  3.163540e+12       1.265416e+08\n",
       "3  Upper-Medium            25000  1.565329e+13       6.261316e+08"
      ]
     },
     "execution_count": 14,
     "metadata": {},
     "output_type": "execute_result"
    }
   ],
   "source": [
    "funding_class_analysis"
   ]
  },
  {
   "cell_type": "code",
   "execution_count": 15,
   "id": "5c46d8d4",
   "metadata": {},
   "outputs": [],
   "source": [
    "total_funding = df['funding_amount'].sum()\n",
    "funding_class_analysis['percent_of_total_funding'] = (funding_class_analysis['total_amount'] / total_funding * 100).round(2)\n"
   ]
  },
  {
   "cell_type": "code",
   "execution_count": 17,
   "id": "70a1c2c0",
   "metadata": {},
   "outputs": [],
   "source": [
    "# Sort the values for readability\n",
    "funding_class_analysis = funding_class_analysis.sort_values(by='total_amount', ascending=False)"
   ]
  },
  {
   "cell_type": "code",
   "execution_count": 21,
   "id": "4486de50",
   "metadata": {},
   "outputs": [
    {
     "data": {
      "image/png": "[encoded data removed]",
      "text/plain": [
       "<Figure size 640x480 with 1 Axes>"
      ]
     },
     "metadata": {},
     "output_type": "display_data"
    }
   ],
   "source": [
    "funding_class_analysis.plot(kind='bar', x='funding_class', y='total_amount', legend=False)\n",
    "plt.ylabel('Total Funding ($)')\n",
    "plt.gca().get_yaxis().set_major_formatter(plt.FuncFormatter(lambda x, _: f'${x/1e6:.0f}M'))\n",
    "plt.title('Funding Distribution by Class')\n",
    "plt.tight_layout()\n",
    "plt.show()"
   ]
  },
  {
   "cell_type": "code",
   "execution_count": null,
   "id": "86651659",
   "metadata": {},
   "outputs": [],
   "source": []
  }
 ],
 "metadata": {
  "kernelspec": {
   "display_name": "Python 3 (ipykernel)",
   "language": "python",
   "name": "python3"
  },
  "language_info": {
   "codemirror_mode": {
    "name": "ipython",
    "version": 3
   },
   "file_extension": ".py",
   "mimetype": "text/x-python",
   "name": "python",
   "nbconvert_exporter": "python",
   "pygments_lexer": "ipython3",
   "version": "3.12.8"
  }
 },
 "nbformat": 4,
 "nbformat_minor": 5
}
